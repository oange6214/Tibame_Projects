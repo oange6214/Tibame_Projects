{
 "cells": [
  {
   "cell_type": "code",
   "execution_count": null,
   "metadata": {
    "colab": {},
    "colab_type": "code",
    "id": "JbyiSzl1qeVi"
   },
   "outputs": [],
   "source": [
    "from tensorflow.keras.applications.vgg16 import VGG16\n",
    "\n",
    "import matplotlib.pyplot as plt\n",
    "import random\n",
    "import zipfile\n",
    "import pandas as pd\n",
    "%matplotlib inline\n",
    "\n",
    "\n",
    "f = zipfile.ZipFile(\"./drive/My Drive/AOI/train_images.zip\")\n",
    "f.extractall(\"./datasets\")\n",
    "\n",
    "df = pd.read_csv(\"./drive/My Drive/AOI/train.csv\")"
   ]
  },
  {
   "cell_type": "code",
   "execution_count": 5,
   "metadata": {
    "colab": {
     "base_uri": "https://localhost:8080/",
     "height": 351
    },
    "colab_type": "code",
    "collapsed": true,
    "executionInfo": {
     "elapsed": 14967,
     "status": "ok",
     "timestamp": 1591154909105,
     "user": {
      "displayName": "林家弘",
      "photoUrl": "https://lh3.googleusercontent.com/a-/AOh14GgIvFm__XTHSFlIMvgDtpUe4jAGv94cHu45DggivQ=s64",
      "userId": "04461950936489904065"
     },
     "user_tz": -480
    },
    "id": "xFzQUwbzuAwm",
    "jupyter": {
     "outputs_hidden": true
    },
    "outputId": "88aa2378-6848-4eb7-b418-ee00ecb3e071"
   },
   "outputs": [
    {
     "data": {
      "text/plain": [
       "[<tensorflow.python.keras.engine.input_layer.InputLayer at 0x7f71ae75b5f8>,\n",
       " <tensorflow.python.keras.layers.convolutional.Conv2D at 0x7f71ae701c18>,\n",
       " <tensorflow.python.keras.layers.convolutional.Conv2D at 0x7f71ac6a7198>,\n",
       " <tensorflow.python.keras.layers.pooling.MaxPooling2D at 0x7f71ac6e08d0>,\n",
       " <tensorflow.python.keras.layers.convolutional.Conv2D at 0x7f71ac6e0748>,\n",
       " <tensorflow.python.keras.layers.convolutional.Conv2D at 0x7f71a0312a90>,\n",
       " <tensorflow.python.keras.layers.pooling.MaxPooling2D at 0x7f71a031d0f0>,\n",
       " <tensorflow.python.keras.layers.convolutional.Conv2D at 0x7f71a031dac8>,\n",
       " <tensorflow.python.keras.layers.convolutional.Conv2D at 0x7f71a0324dd8>,\n",
       " <tensorflow.python.keras.layers.convolutional.Conv2D at 0x7f71a032d4a8>,\n",
       " <tensorflow.python.keras.layers.pooling.MaxPooling2D at 0x7f71a032f3c8>,\n",
       " <tensorflow.python.keras.layers.convolutional.Conv2D at 0x7f71a033acf8>,\n",
       " <tensorflow.python.keras.layers.convolutional.Conv2D at 0x7f71a033ae10>,\n",
       " <tensorflow.python.keras.layers.convolutional.Conv2D at 0x7f71a0340828>,\n",
       " <tensorflow.python.keras.layers.pooling.MaxPooling2D at 0x7f71a02c7550>,\n",
       " <tensorflow.python.keras.layers.convolutional.Conv2D at 0x7f71a02d0c18>,\n",
       " <tensorflow.python.keras.layers.convolutional.Conv2D at 0x7f71a02d5390>,\n",
       " <tensorflow.python.keras.layers.convolutional.Conv2D at 0x7f71a02dd550>,\n",
       " <tensorflow.python.keras.layers.pooling.MaxPooling2D at 0x7f71a02e3438>]"
      ]
     },
     "execution_count": 5,
     "metadata": {
      "tags": []
     },
     "output_type": "execute_result"
    }
   ],
   "source": [
    "from tensorflow.keras.models import Model\n",
    "from tensorflow.keras.layers import Dense, Flatten, Dropout\n",
    "from tensorflow.keras.layers import BatchNormalization\n",
    "\n",
    "cnn = VGG16(include_top=False, input_shape=(256, 256, 3))\n",
    "\n",
    "for l in cnn.layers:\n",
    "    l.trainable = False\n",
    "\n",
    "x = BatchNormalization()(cnn.output)\n",
    "x = Flatten()(x)\n",
    "x = Dense(64, activation=\"relu\")(x)\n",
    "out = Dense(6, activation=\"softmax\")(x)\n",
    "\n",
    "model2 = Model(inputs=cnn.input, outputs=out)"
   ]
  },
  {
   "cell_type": "code",
   "execution_count": null,
   "metadata": {
    "colab": {},
    "colab_type": "code",
    "id": "TyoApS0uwA75"
   },
   "outputs": [],
   "source": [
    "from tensorflow.keras.losses import SparseCategoricalCrossentropy\n",
    "\n",
    "model2.compile(loss=SparseCategoricalCrossentropy(),\n",
    "               optimizer=\"adam\",\n",
    "               metrics=[\"accuracy\"])"
   ]
  },
  {
   "cell_type": "code",
   "execution_count": 8,
   "metadata": {
    "colab": {
     "base_uri": "https://localhost:8080/",
     "height": 175
    },
    "colab_type": "code",
    "collapsed": true,
    "executionInfo": {
     "elapsed": 15778,
     "status": "ok",
     "timestamp": 1591154909933,
     "user": {
      "displayName": "林家弘",
      "photoUrl": "https://lh3.googleusercontent.com/a-/AOh14GgIvFm__XTHSFlIMvgDtpUe4jAGv94cHu45DggivQ=s64",
      "userId": "04461950936489904065"
     },
     "user_tz": -480
    },
    "id": "ngVa98HrwH76",
    "jupyter": {
     "outputs_hidden": true
    },
    "outputId": "97f85af9-ae2d-4480-bafb-d9a4b6a76b86"
   },
   "outputs": [
    {
     "name": "stdout",
     "output_type": "stream",
     "text": [
      "[0 1 1 ... 3 0 5]\n",
      "(2528,)\n",
      "\n",
      "['./datasets/train_images/train_00000.png'\n",
      " './datasets/train_images/train_00001.png'\n",
      " './datasets/train_images/train_00002.png' ...\n",
      " './datasets/train_images/train_02525.png'\n",
      " './datasets/train_images/train_02526.png'\n",
      " './datasets/train_images/train_02527.png']\n"
     ]
    }
   ],
   "source": [
    "import numpy as np\n",
    "from sklearn.model_selection import train_test_split\n",
    "\n",
    "imagePaths = np.array(\"./datasets/train_images/\" + df[\"ID\"])\n",
    "label = np.array(df[\"Label\"])\n",
    "\n",
    "# 圖片, 編號, 圖片, 編號\n",
    "x_train, x_test, y_train, y_test = train_test_split(imagePaths,\n",
    "                                                    label,\n",
    "                                                    test_size=0.2)"
   ]
  },
  {
   "cell_type": "code",
   "execution_count": 93,
   "metadata": {
    "colab": {},
    "colab_type": "code",
    "id": "r7FbICl8x7hH"
   },
   "outputs": [],
   "source": [
    "from tensorflow.keras.applications.vgg16 import preprocess_input\n",
    "from tensorflow.keras.preprocessing.image import load_img\n",
    "\n",
    "def dataflow (x_data, y_data, batch=20):\n",
    "    \n",
    "    x_len = len(x_data)\n",
    "    batch_index = np.random.choice(x_len, batch)\n",
    "    \n",
    "    x_batch, y_batch = [], []\n",
    "    for x in batch_index:\n",
    "        img = load_img(x_train[x], target_size=(256, 256))\n",
    "        img = preprocess_input(np.array(img))\n",
    "        x_batch.append(img)\n",
    "        \n",
    "        y_batch.append(y_data[x])\n",
    "    \n",
    "    return x_batch, y_batch"
   ]
  },
  {
   "cell_type": "code",
   "execution_count": 51,
   "metadata": {
    "colab": {
     "base_uri": "https://localhost:8080/",
     "height": 544
    },
    "colab_type": "code",
    "executionInfo": {
     "elapsed": 40636,
     "status": "ok",
     "timestamp": 1591154934807,
     "user": {
      "displayName": "林家弘",
      "photoUrl": "https://lh3.googleusercontent.com/a-/AOh14GgIvFm__XTHSFlIMvgDtpUe4jAGv94cHu45DggivQ=s64",
      "userId": "04461950936489904065"
     },
     "user_tz": -480
    },
    "id": "otMUetD61fgj",
    "outputId": "256e3ec5-f3af-49db-d027-2630b592ab39"
   },
   "outputs": [
    {
     "name": "stdout",
     "output_type": "stream",
     "text": [
      "---------- 這是第 1 次訓練\n"
     ]
    },
    {
     "ename": "NameError",
     "evalue": "name 'x_train' is not defined",
     "output_type": "error",
     "traceback": [
      "\u001b[1;31m---------------------------------------------------------------------------\u001b[0m",
      "\u001b[1;31mNameError\u001b[0m                                 Traceback (most recent call last)",
      "\u001b[1;32m<ipython-input-51-052418d37909>\u001b[0m in \u001b[0;36m<module>\u001b[1;34m\u001b[0m\n\u001b[0;32m      5\u001b[0m   \u001b[0mprint\u001b[0m\u001b[1;33m(\u001b[0m\u001b[1;34m\"-\"\u001b[0m \u001b[1;33m*\u001b[0m \u001b[1;36m10\u001b[0m\u001b[1;33m,\u001b[0m \u001b[1;34m\"這是第\"\u001b[0m\u001b[1;33m,\u001b[0m \u001b[0mi\u001b[0m\u001b[1;33m+\u001b[0m\u001b[1;36m1\u001b[0m\u001b[1;33m,\u001b[0m \u001b[1;34m\"次訓練\"\u001b[0m\u001b[1;33m)\u001b[0m\u001b[1;33m\u001b[0m\u001b[1;33m\u001b[0m\u001b[0m\n\u001b[0;32m      6\u001b[0m \u001b[1;33m\u001b[0m\u001b[0m\n\u001b[1;32m----> 7\u001b[1;33m   \u001b[0mx_ori01\u001b[0m\u001b[1;33m,\u001b[0m \u001b[0mx_prepro01\u001b[0m\u001b[1;33m,\u001b[0m \u001b[0my_batch01\u001b[0m \u001b[1;33m=\u001b[0m \u001b[0mdataflow\u001b[0m\u001b[1;33m(\u001b[0m\u001b[0mx_train\u001b[0m\u001b[1;33m,\u001b[0m \u001b[0my_train\u001b[0m\u001b[1;33m)\u001b[0m\u001b[1;33m\u001b[0m\u001b[1;33m\u001b[0m\u001b[0m\n\u001b[0m\u001b[0;32m      8\u001b[0m   \u001b[0mresult1\u001b[0m \u001b[1;33m=\u001b[0m \u001b[0mmodel2\u001b[0m\u001b[1;33m.\u001b[0m\u001b[0mtrain_on_batch\u001b[0m\u001b[1;33m(\u001b[0m\u001b[0mx_prepro01\u001b[0m\u001b[1;33m,\u001b[0m \u001b[0my_batch01\u001b[0m\u001b[1;33m)\u001b[0m  \u001b[1;31m## train on batch\u001b[0m\u001b[1;33m\u001b[0m\u001b[1;33m\u001b[0m\u001b[0m\n\u001b[0;32m      9\u001b[0m \u001b[1;33m\u001b[0m\u001b[0m\n",
      "\u001b[1;31mNameError\u001b[0m: name 'x_train' is not defined"
     ]
    }
   ],
   "source": [
    "# 訓練個 10 次\n",
    "# 這個可以一直按 = 10 + 10 + 10 + ... + n 次 訓練\n",
    "\n",
    "for i in range(10):\n",
    "    print(\"-\" * 10, \"這是第\", i+1, \"次訓練\")\n",
    "    x_trn_batch, y_trn_batch = dataflow(x_train, y_train)\n",
    "    result1 = model2.train_on_batch(x_trn_batch, y_trn_batch)  ## train on batch\n",
    "\n",
    "    # 驗證資料的 batch 要高點比較好\n",
    "    x_tet_batch, y_tet_batch = dataflow(x_test, y_test, t='test')\n",
    "    result2 = model2.test_on_batch(x_tet_batch, y_tet_batch)  ## test on batch\n",
    "\n",
    "    print(\"[Train]:\", result1)\n",
    "    print(\"[valid]:\", result2)"
   ]
  },
  {
   "cell_type": "code",
   "execution_count": 52,
   "metadata": {
    "colab": {
     "base_uri": "https://localhost:8080/",
     "height": 34
    },
    "colab_type": "code",
    "executionInfo": {
     "elapsed": 49778,
     "status": "ok",
     "timestamp": 1591154943955,
     "user": {
      "displayName": "林家弘",
      "photoUrl": "https://lh3.googleusercontent.com/a-/AOh14GgIvFm__XTHSFlIMvgDtpUe4jAGv94cHu45DggivQ=s64",
      "userId": "04461950936489904065"
     },
     "user_tz": -480
    },
    "id": "zABDwNcJ7Q4w",
    "outputId": "02d668e9-421e-494b-f617-ade9d64b40d4"
   },
   "outputs": [
    {
     "ename": "NameError",
     "evalue": "name 'x_test' is not defined",
     "output_type": "error",
     "traceback": [
      "\u001b[1;31m---------------------------------------------------------------------------\u001b[0m",
      "\u001b[1;31mNameError\u001b[0m                                 Traceback (most recent call last)",
      "\u001b[1;32m<ipython-input-52-f5f1924ec717>\u001b[0m in \u001b[0;36m<module>\u001b[1;34m\u001b[0m\n\u001b[0;32m      1\u001b[0m \u001b[1;31m# 拿 10% 的 200 張 算 evaluate = ['loss', 'acc']\u001b[0m\u001b[1;33m\u001b[0m\u001b[1;33m\u001b[0m\u001b[1;33m\u001b[0m\u001b[0m\n\u001b[1;32m----> 2\u001b[1;33m \u001b[0mtimg\u001b[0m\u001b[1;33m,\u001b[0m \u001b[0mtx\u001b[0m\u001b[1;33m,\u001b[0m \u001b[0mty\u001b[0m \u001b[1;33m=\u001b[0m \u001b[0mdataflow\u001b[0m\u001b[1;33m(\u001b[0m\u001b[0mx_test\u001b[0m\u001b[1;33m,\u001b[0m \u001b[0my_test\u001b[0m\u001b[1;33m,\u001b[0m \u001b[1;36m200\u001b[0m\u001b[1;33m)\u001b[0m\u001b[1;33m\u001b[0m\u001b[1;33m\u001b[0m\u001b[0m\n\u001b[0m\u001b[0;32m      3\u001b[0m \u001b[0mmodel2\u001b[0m\u001b[1;33m.\u001b[0m\u001b[0mevaluate\u001b[0m\u001b[1;33m(\u001b[0m\u001b[0mtx\u001b[0m\u001b[1;33m,\u001b[0m \u001b[0mty\u001b[0m\u001b[1;33m)\u001b[0m\u001b[1;33m\u001b[0m\u001b[1;33m\u001b[0m\u001b[0m\n\u001b[0;32m      4\u001b[0m \u001b[1;33m\u001b[0m\u001b[0m\n\u001b[0;32m      5\u001b[0m \u001b[1;31m# 拿 10% 的驗證資料看機率值\u001b[0m\u001b[1;33m\u001b[0m\u001b[1;33m\u001b[0m\u001b[1;33m\u001b[0m\u001b[0m\n",
      "\u001b[1;31mNameError\u001b[0m: name 'x_test' is not defined"
     ]
    }
   ],
   "source": [
    "# 拿 10% 的 200 張 算 evaluate = ['loss', 'acc']\n",
    "tx, ty = dataflow(x_test, y_test, 200)\n",
    "model2.evaluate(tx, ty)\n",
    "\n",
    "# 拿 10% 的驗證資料看機率值\n",
    "pred = model2.predict(x_prepro02)\n",
    "# pred"
   ]
  }
 ],
 "metadata": {
  "accelerator": "GPU",
  "colab": {
   "authorship_tag": "ABX9TyOB6Iz8dAm0E3dGfQC1jvQK",
   "collapsed_sections": [],
   "mount_file_id": "1dhpAWJo-IdLD7fWvAur8pIfctwLgVNtl",
   "name": "AOI.ipynb",
   "provenance": []
  },
  "kernelspec": {
   "display_name": "Python 3",
   "language": "python",
   "name": "python3"
  },
  "language_info": {
   "codemirror_mode": {
    "name": "ipython",
    "version": 3
   },
   "file_extension": ".py",
   "mimetype": "text/x-python",
   "name": "python",
   "nbconvert_exporter": "python",
   "pygments_lexer": "ipython3",
   "version": "3.7.5"
  }
 },
 "nbformat": 4,
 "nbformat_minor": 4
}
