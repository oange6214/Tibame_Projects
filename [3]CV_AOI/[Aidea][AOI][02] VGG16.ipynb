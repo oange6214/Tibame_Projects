{
 "cells": [
  {
   "cell_type": "code",
   "execution_count": null,
   "metadata": {
    "colab": {},
    "colab_type": "code",
    "id": "JbyiSzl1qeVi"
   },
   "outputs": [],
   "source": [
    "from tensorflow.keras.applications.vgg16 import VGG16\n",
    "\n",
    "import matplotlib.pyplot as plt\n",
    "import random\n",
    "import zipfile\n",
    "import pandas as pd\n",
    "%matplotlib inline\n",
    "\n",
    "\n",
    "f = zipfile.ZipFile(\"./drive/My Drive/AOI/train_images.zip\")\n",
    "f.extractall(\"./datasets\")\n",
    "\n",
    "df = pd.read_csv(\"./drive/My Drive/AOI/train.csv\")"
   ]
  },
  {
   "cell_type": "code",
   "execution_count": 5,
   "metadata": {
    "colab": {
     "base_uri": "https://localhost:8080/",
     "height": 351
    },
    "colab_type": "code",
    "collapsed": true,
    "executionInfo": {
     "elapsed": 14967,
     "status": "ok",
     "timestamp": 1591154909105,
     "user": {
      "displayName": "林家弘",
      "photoUrl": "https://lh3.googleusercontent.com/a-/AOh14GgIvFm__XTHSFlIMvgDtpUe4jAGv94cHu45DggivQ=s64",
      "userId": "04461950936489904065"
     },
     "user_tz": -480
    },
    "id": "xFzQUwbzuAwm",
    "jupyter": {
     "outputs_hidden": true
    },
    "outputId": "88aa2378-6848-4eb7-b418-ee00ecb3e071"
   },
   "outputs": [
    {
     "data": {
      "text/plain": [
       "[<tensorflow.python.keras.engine.input_layer.InputLayer at 0x7f71ae75b5f8>,\n",
       " <tensorflow.python.keras.layers.convolutional.Conv2D at 0x7f71ae701c18>,\n",
       " <tensorflow.python.keras.layers.convolutional.Conv2D at 0x7f71ac6a7198>,\n",
       " <tensorflow.python.keras.layers.pooling.MaxPooling2D at 0x7f71ac6e08d0>,\n",
       " <tensorflow.python.keras.layers.convolutional.Conv2D at 0x7f71ac6e0748>,\n",
       " <tensorflow.python.keras.layers.convolutional.Conv2D at 0x7f71a0312a90>,\n",
       " <tensorflow.python.keras.layers.pooling.MaxPooling2D at 0x7f71a031d0f0>,\n",
       " <tensorflow.python.keras.layers.convolutional.Conv2D at 0x7f71a031dac8>,\n",
       " <tensorflow.python.keras.layers.convolutional.Conv2D at 0x7f71a0324dd8>,\n",
       " <tensorflow.python.keras.layers.convolutional.Conv2D at 0x7f71a032d4a8>,\n",
       " <tensorflow.python.keras.layers.pooling.MaxPooling2D at 0x7f71a032f3c8>,\n",
       " <tensorflow.python.keras.layers.convolutional.Conv2D at 0x7f71a033acf8>,\n",
       " <tensorflow.python.keras.layers.convolutional.Conv2D at 0x7f71a033ae10>,\n",
       " <tensorflow.python.keras.layers.convolutional.Conv2D at 0x7f71a0340828>,\n",
       " <tensorflow.python.keras.layers.pooling.MaxPooling2D at 0x7f71a02c7550>,\n",
       " <tensorflow.python.keras.layers.convolutional.Conv2D at 0x7f71a02d0c18>,\n",
       " <tensorflow.python.keras.layers.convolutional.Conv2D at 0x7f71a02d5390>,\n",
       " <tensorflow.python.keras.layers.convolutional.Conv2D at 0x7f71a02dd550>,\n",
       " <tensorflow.python.keras.layers.pooling.MaxPooling2D at 0x7f71a02e3438>]"
      ]
     },
     "execution_count": 5,
     "metadata": {
      "tags": []
     },
     "output_type": "execute_result"
    }
   ],
   "source": [
    "from tensorflow.keras.models import Model\n",
    "from tensorflow.keras.layers import Dense, Flatten, Dropout\n",
    "from tensorflow.keras.layers import BatchNormalization\n",
    "\n",
    "cnn = VGG16(include_top=False, input_shape=(256, 256, 3))\n",
    "\n",
    "for l in cnn.layers:\n",
    "    l.trainable = False\n",
    "\n",
    "x = BatchNormalization()(cnn.output)\n",
    "x = Flatten()(x)\n",
    "x = Dense(64, activation=\"relu\")(x)\n",
    "out = Dense(6, activation=\"softmax\")(x)\n",
    "\n",
    "model2 = Model(inputs=cnn.input, outputs=out)\n",
    "model2.summary()"
   ]
  },
  {
   "cell_type": "code",
   "execution_count": null,
   "metadata": {
    "colab": {},
    "colab_type": "code",
    "id": "TyoApS0uwA75"
   },
   "outputs": [],
   "source": [
    "# 優化器 - Model\n",
    "from tensorflow.keras.losses import SparseCategoricalCrossentropy\n",
    "\n",
    "model2.compile(loss=SparseCategoricalCrossentropy(),\n",
    "               optimizer=\"adam\",\n",
    "               metrics=[\"accuracy\"])"
   ]
  },
  {
   "cell_type": "code",
   "execution_count": 8,
   "metadata": {
    "colab": {
     "base_uri": "https://localhost:8080/",
     "height": 175
    },
    "colab_type": "code",
    "collapsed": true,
    "executionInfo": {
     "elapsed": 15778,
     "status": "ok",
     "timestamp": 1591154909933,
     "user": {
      "displayName": "林家弘",
      "photoUrl": "https://lh3.googleusercontent.com/a-/AOh14GgIvFm__XTHSFlIMvgDtpUe4jAGv94cHu45DggivQ=s64",
      "userId": "04461950936489904065"
     },
     "user_tz": -480
    },
    "id": "ngVa98HrwH76",
    "jupyter": {
     "outputs_hidden": true
    },
    "outputId": "97f85af9-ae2d-4480-bafb-d9a4b6a76b86"
   },
   "outputs": [
    {
     "name": "stdout",
     "output_type": "stream",
     "text": [
      "[0 1 1 ... 3 0 5]\n",
      "(2528,)\n",
      "\n",
      "['./datasets/train_images/train_00000.png'\n",
      " './datasets/train_images/train_00001.png'\n",
      " './datasets/train_images/train_00002.png' ...\n",
      " './datasets/train_images/train_02525.png'\n",
      " './datasets/train_images/train_02526.png'\n",
      " './datasets/train_images/train_02527.png']\n"
     ]
    }
   ],
   "source": [
    "# 切割 train and test\n",
    "# 要用 np.array 才不容易出錯\n",
    "\n",
    "import numpy as np\n",
    "from sklearn.model_selection import train_test_split\n",
    "\n",
    "imagePaths = np.array(\"./datasets/train_images/\" + df[\"ID\"])\n",
    "label = np.array(df[\"Label\"])\n",
    "\n",
    "# 圖片, 編號, 圖片, 編號\n",
    "x_train, x_test, y_train, y_test = train_test_split(imagePaths,\n",
    "                                                    label,\n",
    "                                                    test_size=0.2)"
   ]
  },
  {
   "cell_type": "code",
   "execution_count": null,
   "metadata": {},
   "outputs": [],
   "source": [
    "dagen = ImageDataGenerator(rotation_range=40,\n",
    "                               width_shift_range=0.2,\n",
    "                               height_shift_range=0.2,\n",
    "                               shear_range=0.2,\n",
    "                               zoom_range=0.2,\n",
    "                               channel_shift_range=10,\n",
    "                               horizontal_flip=True,\n",
    "                               fill_mode='nearest')"
   ]
  },
  {
   "cell_type": "code",
   "execution_count": 93,
   "metadata": {
    "colab": {},
    "colab_type": "code",
    "id": "r7FbICl8x7hH"
   },
   "outputs": [],
   "source": [
    "from tensorflow.keras.applications.vgg16 import preprocess_input\n",
    "from tensorflow.keras.preprocessing.image import load_img\n",
    "\n",
    "def data_generator(data_paths, batch_size):\n",
    "    n = len(data_paths)\n",
    "    i = 0\n",
    "    data_paths = data_paths\n",
    "    while True:\n",
    "        image_data = []\n",
    "        class_data = []\n",
    "        for b in range(batch_size):\n",
    "            if i==0:\n",
    "                np.random.shuffle(data_paths)\n",
    "            path = data_paths[i]\n",
    "            \n",
    "            img = load_img(path, target_size=(256, 256))\n",
    "            img_pre = preprocess_input(np.array(img))\n",
    "            image_data.append(img_pre)\n",
    "            i = (i+1) % n\n",
    "        image_data = np.array(image_data)\n",
    "        yield image_data"
   ]
  },
  {
   "cell_type": "code",
   "execution_count": null,
   "metadata": {},
   "outputs": [],
   "source": [
    "EPOCHS = 10\n",
    "BATCHS = 32\n",
    "\n",
    "for i in range(epochs):\n",
    "    batches = 0\n",
    "    for x_batch, y_batch in dagen.flow(data_generator(x_train), data_generator(y_train), 32):\n",
    "        model.fit(x_batch, y_batch)\n",
    "        batches += 1\n",
    "        if batches >= len(x_train) / BATCHS:\n",
    "            break"
   ]
  },
  {
   "cell_type": "code",
   "execution_count": 52,
   "metadata": {
    "colab": {
     "base_uri": "https://localhost:8080/",
     "height": 34
    },
    "colab_type": "code",
    "executionInfo": {
     "elapsed": 49778,
     "status": "ok",
     "timestamp": 1591154943955,
     "user": {
      "displayName": "林家弘",
      "photoUrl": "https://lh3.googleusercontent.com/a-/AOh14GgIvFm__XTHSFlIMvgDtpUe4jAGv94cHu45DggivQ=s64",
      "userId": "04461950936489904065"
     },
     "user_tz": -480
    },
    "id": "zABDwNcJ7Q4w",
    "outputId": "02d668e9-421e-494b-f617-ade9d64b40d4"
   },
   "outputs": [
    {
     "ename": "NameError",
     "evalue": "name 'x_test' is not defined",
     "output_type": "error",
     "traceback": [
      "\u001b[1;31m---------------------------------------------------------------------------\u001b[0m",
      "\u001b[1;31mNameError\u001b[0m                                 Traceback (most recent call last)",
      "\u001b[1;32m<ipython-input-52-f5f1924ec717>\u001b[0m in \u001b[0;36m<module>\u001b[1;34m\u001b[0m\n\u001b[0;32m      1\u001b[0m \u001b[1;31m# 拿 10% 的 200 張 算 evaluate = ['loss', 'acc']\u001b[0m\u001b[1;33m\u001b[0m\u001b[1;33m\u001b[0m\u001b[1;33m\u001b[0m\u001b[0m\n\u001b[1;32m----> 2\u001b[1;33m \u001b[0mtimg\u001b[0m\u001b[1;33m,\u001b[0m \u001b[0mtx\u001b[0m\u001b[1;33m,\u001b[0m \u001b[0mty\u001b[0m \u001b[1;33m=\u001b[0m \u001b[0mdataflow\u001b[0m\u001b[1;33m(\u001b[0m\u001b[0mx_test\u001b[0m\u001b[1;33m,\u001b[0m \u001b[0my_test\u001b[0m\u001b[1;33m,\u001b[0m \u001b[1;36m200\u001b[0m\u001b[1;33m)\u001b[0m\u001b[1;33m\u001b[0m\u001b[1;33m\u001b[0m\u001b[0m\n\u001b[0m\u001b[0;32m      3\u001b[0m \u001b[0mmodel2\u001b[0m\u001b[1;33m.\u001b[0m\u001b[0mevaluate\u001b[0m\u001b[1;33m(\u001b[0m\u001b[0mtx\u001b[0m\u001b[1;33m,\u001b[0m \u001b[0mty\u001b[0m\u001b[1;33m)\u001b[0m\u001b[1;33m\u001b[0m\u001b[1;33m\u001b[0m\u001b[0m\n\u001b[0;32m      4\u001b[0m \u001b[1;33m\u001b[0m\u001b[0m\n\u001b[0;32m      5\u001b[0m \u001b[1;31m# 拿 10% 的驗證資料看機率值\u001b[0m\u001b[1;33m\u001b[0m\u001b[1;33m\u001b[0m\u001b[1;33m\u001b[0m\u001b[0m\n",
      "\u001b[1;31mNameError\u001b[0m: name 'x_test' is not defined"
     ]
    }
   ],
   "source": [
    "# 拿 10% 的 200 張 算 evaluate = ['loss', 'acc']\n",
    "timg, tx, ty = dataflow(x_test, y_test, 200)\n",
    "model2.evaluate(tx, ty)\n",
    "\n",
    "# 拿 10% 的驗證資料看機率值\n",
    "pred = model2.predict(x_prepro02)\n",
    "# pred"
   ]
  },
  {
   "cell_type": "code",
   "execution_count": null,
   "metadata": {
    "colab": {},
    "colab_type": "code",
    "id": "nV4GiVLq2GH4"
   },
   "outputs": [],
   "source": [
    "# 載入 真．驗證資料\n",
    "\n",
    "import zipfile\n",
    "f = zipfile.ZipFile(\"./drive/My Drive/AOI/test_images.zip\")\n",
    "f.extractall(\"./datasets_test/\")"
   ]
  },
  {
   "cell_type": "code",
   "execution_count": 14,
   "metadata": {
    "colab": {
     "base_uri": "https://localhost:8080/",
     "height": 410
    },
    "colab_type": "code",
    "executionInfo": {
     "elapsed": 87515,
     "status": "ok",
     "timestamp": 1591154981702,
     "user": {
      "displayName": "林家弘",
      "photoUrl": "https://lh3.googleusercontent.com/a-/AOh14GgIvFm__XTHSFlIMvgDtpUe4jAGv94cHu45DggivQ=s64",
      "userId": "04461950936489904065"
     },
     "user_tz": -480
    },
    "id": "XyZKmy2O8K2n",
    "outputId": "c163872f-bab6-4ae0-e74d-356ff0be6aa6"
   },
   "outputs": [
    {
     "data": {
      "text/html": [
       "<div>\n",
       "<style scoped>\n",
       "    .dataframe tbody tr th:only-of-type {\n",
       "        vertical-align: middle;\n",
       "    }\n",
       "\n",
       "    .dataframe tbody tr th {\n",
       "        vertical-align: top;\n",
       "    }\n",
       "\n",
       "    .dataframe thead th {\n",
       "        text-align: right;\n",
       "    }\n",
       "</style>\n",
       "<table border=\"1\" class=\"dataframe\">\n",
       "  <thead>\n",
       "    <tr style=\"text-align: right;\">\n",
       "      <th></th>\n",
       "      <th>ID</th>\n",
       "      <th>Label</th>\n",
       "    </tr>\n",
       "  </thead>\n",
       "  <tbody>\n",
       "    <tr>\n",
       "      <th>0</th>\n",
       "      <td>test_00000.png</td>\n",
       "      <td>NaN</td>\n",
       "    </tr>\n",
       "    <tr>\n",
       "      <th>1</th>\n",
       "      <td>test_00001.png</td>\n",
       "      <td>NaN</td>\n",
       "    </tr>\n",
       "    <tr>\n",
       "      <th>2</th>\n",
       "      <td>test_00002.png</td>\n",
       "      <td>NaN</td>\n",
       "    </tr>\n",
       "    <tr>\n",
       "      <th>3</th>\n",
       "      <td>test_00003.png</td>\n",
       "      <td>NaN</td>\n",
       "    </tr>\n",
       "    <tr>\n",
       "      <th>4</th>\n",
       "      <td>test_00004.png</td>\n",
       "      <td>NaN</td>\n",
       "    </tr>\n",
       "    <tr>\n",
       "      <th>...</th>\n",
       "      <td>...</td>\n",
       "      <td>...</td>\n",
       "    </tr>\n",
       "    <tr>\n",
       "      <th>10137</th>\n",
       "      <td>test_10137.png</td>\n",
       "      <td>NaN</td>\n",
       "    </tr>\n",
       "    <tr>\n",
       "      <th>10138</th>\n",
       "      <td>test_10138.png</td>\n",
       "      <td>NaN</td>\n",
       "    </tr>\n",
       "    <tr>\n",
       "      <th>10139</th>\n",
       "      <td>test_10139.png</td>\n",
       "      <td>NaN</td>\n",
       "    </tr>\n",
       "    <tr>\n",
       "      <th>10140</th>\n",
       "      <td>test_10140.png</td>\n",
       "      <td>NaN</td>\n",
       "    </tr>\n",
       "    <tr>\n",
       "      <th>10141</th>\n",
       "      <td>test_10141.png</td>\n",
       "      <td>NaN</td>\n",
       "    </tr>\n",
       "  </tbody>\n",
       "</table>\n",
       "<p>10142 rows × 2 columns</p>\n",
       "</div>"
      ],
      "text/plain": [
       "                   ID  Label\n",
       "0      test_00000.png    NaN\n",
       "1      test_00001.png    NaN\n",
       "2      test_00002.png    NaN\n",
       "3      test_00003.png    NaN\n",
       "4      test_00004.png    NaN\n",
       "...               ...    ...\n",
       "10137  test_10137.png    NaN\n",
       "10138  test_10138.png    NaN\n",
       "10139  test_10139.png    NaN\n",
       "10140  test_10140.png    NaN\n",
       "10141  test_10141.png    NaN\n",
       "\n",
       "[10142 rows x 2 columns]"
      ]
     },
     "execution_count": 14,
     "metadata": {
      "tags": []
     },
     "output_type": "execute_result"
    }
   ],
   "source": [
    "# 讀 真．驗證資料 的答案\n",
    "\n",
    "import pandas as pd\n",
    "\n",
    "df2 = pd.read_csv(\"./drive/My Drive/AOI/test.csv\")\n",
    "df2"
   ]
  },
  {
   "cell_type": "code",
   "execution_count": 15,
   "metadata": {
    "colab": {
     "base_uri": "https://localhost:8080/",
     "height": 122
    },
    "colab_type": "code",
    "executionInfo": {
     "elapsed": 87510,
     "status": "ok",
     "timestamp": 1591154981702,
     "user": {
      "displayName": "林家弘",
      "photoUrl": "https://lh3.googleusercontent.com/a-/AOh14GgIvFm__XTHSFlIMvgDtpUe4jAGv94cHu45DggivQ=s64",
      "userId": "04461950936489904065"
     },
     "user_tz": -480
    },
    "id": "w9ul5T8G9JWe",
    "outputId": "541149e4-d34b-4476-ad8f-a9e2b157924e"
   },
   "outputs": [
    {
     "name": "stdout",
     "output_type": "stream",
     "text": [
      "['datasets_test/test_images/test_00000.png'\n",
      " 'datasets_test/test_images/test_00001.png'\n",
      " 'datasets_test/test_images/test_00002.png' ...\n",
      " 'datasets_test/test_images/test_10139.png'\n",
      " 'datasets_test/test_images/test_10140.png'\n",
      " 'datasets_test/test_images/test_10141.png']\n"
     ]
    }
   ],
   "source": [
    "# 來預言喔\n",
    "\n",
    "# 1: 讀圖片\n",
    "\n",
    "import glob\n",
    "path = glob.glob(\"datasets_test/test_images/*\")\n",
    "# print(path)\n",
    "\n",
    "# 按名稱排序\n",
    "path = sorted(path)\n",
    "\n",
    "# 2: 路徑轉成np.array\n",
    "npPath = np.array(path)\n",
    "print(npPath)"
   ]
  },
  {
   "cell_type": "code",
   "execution_count": null,
   "metadata": {
    "colab": {},
    "colab_type": "code",
    "id": "YEyuH09kYN6x"
   },
   "outputs": [],
   "source": [
    "from tensorflow.keras.applications.vgg16 import preprocess_input\n",
    "from tensorflow.keras.preprocessing.image import load_img\n",
    "\n",
    "def dataflow2(npPath):\n",
    "\n",
    "  AA = []\n",
    "\n",
    "  for i, fp in enumerate(npPath):\n",
    "    img = load_img(fp, target_size=(512, 512))\n",
    "\n",
    "    img_np = np.array(img)\n",
    "\n",
    "    img_pre = preprocess_input(img_np)\n",
    "    AA.append(img_pre)\n",
    "\n",
    "  K = np.array(AA)\n",
    "    \n",
    "  return i, K"
   ]
  },
  {
   "cell_type": "code",
   "execution_count": 17,
   "metadata": {
    "colab": {
     "base_uri": "https://localhost:8080/",
     "height": 34
    },
    "colab_type": "code",
    "executionInfo": {
     "elapsed": 109374,
     "status": "ok",
     "timestamp": 1591155003577,
     "user": {
      "displayName": "林家弘",
      "photoUrl": "https://lh3.googleusercontent.com/a-/AOh14GgIvFm__XTHSFlIMvgDtpUe4jAGv94cHu45DggivQ=s64",
      "userId": "04461950936489904065"
     },
     "user_tz": -480
    },
    "id": "cJdnsRvvVa7-",
    "outputId": "742d987c-54e5-499a-d7ad-9556a2c41dce"
   },
   "outputs": [
    {
     "data": {
      "text/plain": [
       "array([1, 3, 1, ..., 3, 1, 3])"
      ]
     },
     "execution_count": 17,
     "metadata": {
      "tags": []
     },
     "output_type": "execute_result"
    }
   ],
   "source": [
    "seq01 = 0\n",
    "seq02 = 1001\n",
    "\n",
    "K = npPath[seq01:seq02]\n",
    "i, K = dataflow2(K)\n",
    "\n",
    "index_pre = model2.predict(K).argmax(axis=-1)\n",
    "index_pre"
   ]
  },
  {
   "cell_type": "code",
   "execution_count": null,
   "metadata": {
    "colab": {},
    "colab_type": "code",
    "id": "U-syfi2YFi4Q"
   },
   "outputs": [],
   "source": [
    "# ^^^^^^^^^^^^\n",
    "# colab的ram一直爆炸，我決定重寫。"
   ]
  },
  {
   "cell_type": "code",
   "execution_count": null,
   "metadata": {
    "colab": {},
    "colab_type": "code",
    "id": "5v9-pt8mCTdJ"
   },
   "outputs": [],
   "source": []
  },
  {
   "cell_type": "code",
   "execution_count": 19,
   "metadata": {
    "colab": {
     "base_uri": "https://localhost:8080/",
     "height": 410
    },
    "colab_type": "code",
    "executionInfo": {
     "elapsed": 109364,
     "status": "ok",
     "timestamp": 1591155003579,
     "user": {
      "displayName": "林家弘",
      "photoUrl": "https://lh3.googleusercontent.com/a-/AOh14GgIvFm__XTHSFlIMvgDtpUe4jAGv94cHu45DggivQ=s64",
      "userId": "04461950936489904065"
     },
     "user_tz": -480
    },
    "id": "ufEM8hWLLBnj",
    "outputId": "94051610-1c1d-4b43-95bb-0f36434f3009"
   },
   "outputs": [
    {
     "data": {
      "text/html": [
       "<div>\n",
       "<style scoped>\n",
       "    .dataframe tbody tr th:only-of-type {\n",
       "        vertical-align: middle;\n",
       "    }\n",
       "\n",
       "    .dataframe tbody tr th {\n",
       "        vertical-align: top;\n",
       "    }\n",
       "\n",
       "    .dataframe thead th {\n",
       "        text-align: right;\n",
       "    }\n",
       "</style>\n",
       "<table border=\"1\" class=\"dataframe\">\n",
       "  <thead>\n",
       "    <tr style=\"text-align: right;\">\n",
       "      <th></th>\n",
       "      <th>機器預測</th>\n",
       "    </tr>\n",
       "  </thead>\n",
       "  <tbody>\n",
       "    <tr>\n",
       "      <th>0</th>\n",
       "      <td>1</td>\n",
       "    </tr>\n",
       "    <tr>\n",
       "      <th>1</th>\n",
       "      <td>3</td>\n",
       "    </tr>\n",
       "    <tr>\n",
       "      <th>2</th>\n",
       "      <td>1</td>\n",
       "    </tr>\n",
       "    <tr>\n",
       "      <th>3</th>\n",
       "      <td>1</td>\n",
       "    </tr>\n",
       "    <tr>\n",
       "      <th>4</th>\n",
       "      <td>3</td>\n",
       "    </tr>\n",
       "    <tr>\n",
       "      <th>...</th>\n",
       "      <td>...</td>\n",
       "    </tr>\n",
       "    <tr>\n",
       "      <th>996</th>\n",
       "      <td>1</td>\n",
       "    </tr>\n",
       "    <tr>\n",
       "      <th>997</th>\n",
       "      <td>3</td>\n",
       "    </tr>\n",
       "    <tr>\n",
       "      <th>998</th>\n",
       "      <td>3</td>\n",
       "    </tr>\n",
       "    <tr>\n",
       "      <th>999</th>\n",
       "      <td>1</td>\n",
       "    </tr>\n",
       "    <tr>\n",
       "      <th>1000</th>\n",
       "      <td>3</td>\n",
       "    </tr>\n",
       "  </tbody>\n",
       "</table>\n",
       "<p>1001 rows × 1 columns</p>\n",
       "</div>"
      ],
      "text/plain": [
       "      機器預測\n",
       "0        1\n",
       "1        3\n",
       "2        1\n",
       "3        1\n",
       "4        3\n",
       "...    ...\n",
       "996      1\n",
       "997      3\n",
       "998      3\n",
       "999      1\n",
       "1000     3\n",
       "\n",
       "[1001 rows x 1 columns]"
      ]
     },
     "execution_count": 19,
     "metadata": {
      "tags": []
     },
     "output_type": "execute_result"
    }
   ],
   "source": [
    "pre_df = pd.DataFrame({\"機器預測\":index_pre})\n",
    "\n",
    "pre_df"
   ]
  },
  {
   "cell_type": "code",
   "execution_count": 20,
   "metadata": {
    "colab": {
     "base_uri": "https://localhost:8080/",
     "height": 410
    },
    "colab_type": "code",
    "executionInfo": {
     "elapsed": 109358,
     "status": "ok",
     "timestamp": 1591155003579,
     "user": {
      "displayName": "林家弘",
      "photoUrl": "https://lh3.googleusercontent.com/a-/AOh14GgIvFm__XTHSFlIMvgDtpUe4jAGv94cHu45DggivQ=s64",
      "userId": "04461950936489904065"
     },
     "user_tz": -480
    },
    "id": "DMP-Jt-oDWBS",
    "outputId": "bdf64cf2-5bda-461f-82a3-a17e085a8cc4"
   },
   "outputs": [
    {
     "data": {
      "text/html": [
       "<div>\n",
       "<style scoped>\n",
       "    .dataframe tbody tr th:only-of-type {\n",
       "        vertical-align: middle;\n",
       "    }\n",
       "\n",
       "    .dataframe tbody tr th {\n",
       "        vertical-align: top;\n",
       "    }\n",
       "\n",
       "    .dataframe thead th {\n",
       "        text-align: right;\n",
       "    }\n",
       "</style>\n",
       "<table border=\"1\" class=\"dataframe\">\n",
       "  <thead>\n",
       "    <tr style=\"text-align: right;\">\n",
       "      <th></th>\n",
       "      <th>ID</th>\n",
       "      <th>機器預測</th>\n",
       "    </tr>\n",
       "  </thead>\n",
       "  <tbody>\n",
       "    <tr>\n",
       "      <th>0</th>\n",
       "      <td>test_00000.png</td>\n",
       "      <td>1.0</td>\n",
       "    </tr>\n",
       "    <tr>\n",
       "      <th>1</th>\n",
       "      <td>test_00001.png</td>\n",
       "      <td>3.0</td>\n",
       "    </tr>\n",
       "    <tr>\n",
       "      <th>2</th>\n",
       "      <td>test_00002.png</td>\n",
       "      <td>1.0</td>\n",
       "    </tr>\n",
       "    <tr>\n",
       "      <th>3</th>\n",
       "      <td>test_00003.png</td>\n",
       "      <td>1.0</td>\n",
       "    </tr>\n",
       "    <tr>\n",
       "      <th>4</th>\n",
       "      <td>test_00004.png</td>\n",
       "      <td>3.0</td>\n",
       "    </tr>\n",
       "    <tr>\n",
       "      <th>...</th>\n",
       "      <td>...</td>\n",
       "      <td>...</td>\n",
       "    </tr>\n",
       "    <tr>\n",
       "      <th>996</th>\n",
       "      <td>test_00996.png</td>\n",
       "      <td>1.0</td>\n",
       "    </tr>\n",
       "    <tr>\n",
       "      <th>997</th>\n",
       "      <td>test_00997.png</td>\n",
       "      <td>3.0</td>\n",
       "    </tr>\n",
       "    <tr>\n",
       "      <th>998</th>\n",
       "      <td>test_00998.png</td>\n",
       "      <td>3.0</td>\n",
       "    </tr>\n",
       "    <tr>\n",
       "      <th>999</th>\n",
       "      <td>test_00999.png</td>\n",
       "      <td>1.0</td>\n",
       "    </tr>\n",
       "    <tr>\n",
       "      <th>1000</th>\n",
       "      <td>test_01000.png</td>\n",
       "      <td>3.0</td>\n",
       "    </tr>\n",
       "  </tbody>\n",
       "</table>\n",
       "<p>1001 rows × 2 columns</p>\n",
       "</div>"
      ],
      "text/plain": [
       "                  ID  機器預測\n",
       "0     test_00000.png   1.0\n",
       "1     test_00001.png   3.0\n",
       "2     test_00002.png   1.0\n",
       "3     test_00003.png   1.0\n",
       "4     test_00004.png   3.0\n",
       "...              ...   ...\n",
       "996   test_00996.png   1.0\n",
       "997   test_00997.png   3.0\n",
       "998   test_00998.png   3.0\n",
       "999   test_00999.png   1.0\n",
       "1000  test_01000.png   3.0\n",
       "\n",
       "[1001 rows x 2 columns]"
      ]
     },
     "execution_count": 20,
     "metadata": {
      "tags": []
     },
     "output_type": "execute_result"
    }
   ],
   "source": [
    "df2 = df2.drop([\"Label\"], axis=1)\n",
    "\n",
    "result = pd.concat([df2, pre_df], axis=1) \n",
    "result[0:1001]"
   ]
  },
  {
   "cell_type": "code",
   "execution_count": null,
   "metadata": {
    "colab": {},
    "colab_type": "code",
    "id": "lhnJjsW_-Hve"
   },
   "outputs": [],
   "source": [
    "# ^^^^^^^^^^^^\n",
    "# 模型的ram一直掛掉，我覺得應該要寫個新版。"
   ]
  }
 ],
 "metadata": {
  "accelerator": "GPU",
  "colab": {
   "authorship_tag": "ABX9TyOB6Iz8dAm0E3dGfQC1jvQK",
   "collapsed_sections": [],
   "mount_file_id": "1dhpAWJo-IdLD7fWvAur8pIfctwLgVNtl",
   "name": "AOI.ipynb",
   "provenance": []
  },
  "kernelspec": {
   "display_name": "Python 3",
   "language": "python",
   "name": "python3"
  },
  "language_info": {
   "codemirror_mode": {
    "name": "ipython",
    "version": 3
   },
   "file_extension": ".py",
   "mimetype": "text/x-python",
   "name": "python",
   "nbconvert_exporter": "python",
   "pygments_lexer": "ipython3",
   "version": "3.7.5"
  }
 },
 "nbformat": 4,
 "nbformat_minor": 4
}
